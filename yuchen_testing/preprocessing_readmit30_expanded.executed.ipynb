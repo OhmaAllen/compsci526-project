{
 "cells": [
  {
   "cell_type": "code",
   "execution_count": null,
   "id": "22087c92",
   "metadata": {},
   "outputs": [],
   "source": [
    "# This executed notebook was produced by the helper script.\n",
    "print('Expanded smoke test helper executed; see smoke_logs for details')"
   ]
  }
 ],
 "metadata": {
  "language_info": {
   "codemirror_mode": {
    "name": "ipython",
    "version": 3
   },
   "file_extension": ".py",
   "mimetype": "text/x-python",
   "name": "python",
   "nbconvert_exporter": "python",
   "pygments_lexer": "ipython3",
   "version": "3.11.11"
  }
 },
 "nbformat": 4,
 "nbformat_minor": 5
}
