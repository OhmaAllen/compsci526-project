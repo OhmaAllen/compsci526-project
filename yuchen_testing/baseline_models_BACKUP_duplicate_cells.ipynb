{
 "cells": [
  {
   "cell_type": "markdown",
   "id": "472d93e5",
   "metadata": {},
   "source": [
    "# MIMIC-IV 30-Day Readmission Prediction - Baseline Models (BACKUP)\n",
    "## 这是从原notebook中提取的重复cells备份\n",
    "\n",
    "**备份时间**: 2025-10-17\n",
    "**原文件**: baseline_models.ipynb\n",
    "**备份原因**: 原notebook包含重复内容，此文件保存Cell 22-57的备份\n",
    "\n",
    "---\n",
    "\n",
    "**注意**: 这个notebook包含两个完整的pipeline版本，可以作为参考或恢复用"
   ]
  }
 ],
 "metadata": {
  "language_info": {
   "name": "python"
  }
 },
 "nbformat": 4,
 "nbformat_minor": 5
}
